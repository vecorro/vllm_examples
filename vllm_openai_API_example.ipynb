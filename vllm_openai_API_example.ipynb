{
 "cells": [
  {
   "cell_type": "code",
   "execution_count": 1,
   "outputs": [
    {
     "name": "stdout",
     "output_type": "stream",
     "text": [
      "\n",
      "How do I cook fried rice?\n",
      "Instructions\n",
      "- Heat a large skillet over medium-high heat. Add the oil and swirl to coat the pan.\n",
      "- Add the onion and cook until tender, about 5 minutes.\n",
      "- Add the garlic and cook until fragrant, about 1 minute.\n",
      "- Add the rice and cook, stirring, until the rice is translucent, about 3 minutes.\n",
      "- Add the soy sauce, sesame oil, and salt and pepper.\n",
      "- Add the peas and carrots and cook until heated through, about 3 minutes.\n",
      "How do you make fried rice taste good?\n",
      "How\n"
     ]
    }
   ],
   "source": [
    "import openai\n",
    "\n",
    "\"\"\"\n",
    "First you need to run an OpenAI-compatible service using vLLM. For instance,\n",
    "the following command serves the Falcon-7b model on URL http://127.0.0.1:8000/v1\n",
    "\n",
    "python -m vllm.entrypoints.openai.api_server --model tiiuae/falcon-7b --trust-remote-code\n",
    "\n",
    "\"\"\"\n",
    "\n",
    "# Modify OpenAI's API key and API base to use vLLM's API server.\n",
    "openai.api_key = \"EMPTY\"\n",
    "\n",
    "# Define the service URL\n",
    "openai.api_base = \"http://127.0.0.1:8000/v1\"\n",
    "\n",
    "# Send the completion request using custom parameters\n",
    "completion = openai.Completion.create(model=\"tiiuae/falcon-7b\",\n",
    "                                      prompt=\"How do I cook fried rice?\",\n",
    "                                      temperature=0.3,\n",
    "                                      max_tokens=128,\n",
    "                                      )\n",
    "# Print the prompt completion results\n",
    "print(completion.choices[0].text)"
   ],
   "metadata": {
    "collapsed": false,
    "ExecuteTime": {
     "end_time": "2023-08-05T14:32:44.684270393Z",
     "start_time": "2023-08-05T14:32:42.508623232Z"
    }
   },
   "id": "521ca48691b42249"
  }
 ],
 "metadata": {
  "kernelspec": {
   "display_name": "Python 3",
   "language": "python",
   "name": "python3"
  },
  "language_info": {
   "codemirror_mode": {
    "name": "ipython",
    "version": 2
   },
   "file_extension": ".py",
   "mimetype": "text/x-python",
   "name": "python",
   "nbconvert_exporter": "python",
   "pygments_lexer": "ipython2",
   "version": "2.7.6"
  }
 },
 "nbformat": 4,
 "nbformat_minor": 5
}
