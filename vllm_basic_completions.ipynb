{
 "cells": [
  {
   "cell_type": "code",
   "execution_count": 1,
   "outputs": [
    {
     "name": "stderr",
     "output_type": "stream",
     "text": [
      "You are using a model of type RefinedWebModel to instantiate a model of type falcon. This is not supported for all configurations of models and can yield errors.\n"
     ]
    },
    {
     "name": "stdout",
     "output_type": "stream",
     "text": [
      "INFO 08-05 08:39:54 llm_engine.py:70] Initializing an LLM engine with config: model='tiiuae/falcon-7b', tokenizer='tiiuae/falcon-7b', tokenizer_mode=auto, trust_remote_code=True, dtype=torch.bfloat16, use_dummy_weights=False, download_dir=None, use_np_weights=False, tensor_parallel_size=1, seed=0)\n",
      "INFO 08-05 08:40:07 llm_engine.py:196] # GPU blocks: 170569, # CPU blocks: 32768\n"
     ]
    },
    {
     "name": "stderr",
     "output_type": "stream",
     "text": [
      "Processed prompts: 100%|██████████| 3/3 [00:00<00:00,  7.55it/s]"
     ]
    },
    {
     "name": "stdout",
     "output_type": "stream",
     "text": [
      "\n",
      "\n",
      "PROMPT COMPLETIONS >\n",
      "Prompt: 'The Andromeda galaxy is', Generated text: ' a spiral galaxy 2.54 million light years away and is the closest neighboring'\n",
      "Prompt: 'The future of energy is', Generated text: ' Solar energy. Over the past years, solar energy has become more popular and accessible'\n",
      "Prompt: 'A t-rex was', Generated text: ' approached by a caveman in the year 7000.\\n\"Can I'\n"
     ]
    },
    {
     "name": "stderr",
     "output_type": "stream",
     "text": [
      "\n"
     ]
    }
   ],
   "source": [
    "from vllm import LLM, SamplingParams\n",
    "\n",
    "# Define the LLM sampling parameters\n",
    "sampling_params = SamplingParams(temperature=0.8,\n",
    "                                 top_p=0.95)\n",
    "# Load the LLM to serve completions\n",
    "llm = LLM(model=\"tiiuae/falcon-7b\",\n",
    "          dtype=\"bfloat16\",\n",
    "          trust_remote_code=True,\n",
    "          )\n",
    "\n",
    "# Define some prompts for completion\n",
    "prompts = [\n",
    "    \"The Andromeda galaxy is\",\n",
    "    \"The future of energy is\",\n",
    "    \"A t-rex was\"\n",
    "]\n",
    "# Run prompt completions\n",
    "outputs = llm.generate(prompts, sampling_params)\n",
    "\n",
    "# Print the outputs.\n",
    "print(\"\\nPROMPT COMPLETIONS >\")\n",
    "for output in outputs:\n",
    "    prompt = output.prompt\n",
    "    generated_text = output.outputs[0].text\n",
    "    print(f\"Prompt: {prompt!r}, Generated text: {generated_text!r}\")"
   ],
   "metadata": {
    "collapsed": false,
    "ExecuteTime": {
     "end_time": "2023-08-05T14:40:10.526913383Z",
     "start_time": "2023-08-05T14:39:50.804982928Z"
    }
   },
   "id": "a0c3c6a51d25fa45"
  }
 ],
 "metadata": {
  "kernelspec": {
   "display_name": "Python 3",
   "language": "python",
   "name": "python3"
  },
  "language_info": {
   "codemirror_mode": {
    "name": "ipython",
    "version": 2
   },
   "file_extension": ".py",
   "mimetype": "text/x-python",
   "name": "python",
   "nbconvert_exporter": "python",
   "pygments_lexer": "ipython2",
   "version": "2.7.6"
  }
 },
 "nbformat": 4,
 "nbformat_minor": 5
}
